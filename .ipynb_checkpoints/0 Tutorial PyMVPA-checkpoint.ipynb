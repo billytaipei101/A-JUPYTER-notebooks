{
 "cells": [
  {
   "cell_type": "markdown",
   "metadata": {},
   "source": [
    "# Tutorial Introduction to PyMVPA\n",
    "\n",
    "The original tutorial can be found in this [link](http://www.pymvpa.org/tutorial.html). This tutorial includes an introduction to the most important concepts, functionalities and analysis examples.\n",
    "\n",
    "The tutorial pre requisites include knowledge in Python among [others](http://www.pymvpa.org/tutorial_prerequisites.html#chap-tutorial-prerequisites)\n",
    "\n",
    "Throughout the tutorial there will be exercises with tasks that aim to deepen your understanding of a particular problem or to train important skills. Is recommended to run the tutorial code interactively and explore code snippets beyond what is touched in the tutorial. Only the most important aspects will be mentioned and each building block in PyMVPA can be used in more flexible ways than what is shown.\n",
    "\n",
    "## Recommended Reading and Viewing ##\n",
    "\n",
    "#### Tutorial Introductions Into General Python Programming ####\n",
    "_________________________________________________________\n",
    "A tutorial introducing [Python 2.6](https://en.wikibooks.org/wiki/Non-Programmer's_Tutorial_for_Python_2.6), I am doing my own summary in [here](http://localhost:8889/notebooks/Desktop/5%20CODE/3%20PYTHON/CC%20PYTHON%20PRACTICE/02%20Non-Programmers's%20Tutorial%20for%20Python%202.6.ipynb).\n",
    "Additionally another [tutorial written by the creator of Python](https://docs.python.org/3/tutorial/), this is a more comprehensive, but also more compressed tutorial that can serve as reference.\n",
    "\n",
    "#### Scientific Computing In Python ####\n",
    "___________________________________\n",
    "To employ Python for scientific computing the `Numpy` package is recommended. PyMVPA makes extensive use of `Numpy` data structures and functions, therefore we recommend you to get familiar with it ([Official website](https://www.numpy.org)).\n",
    "\n",
    "#### Interactive Python Shell ####\n",
    "_____________________________\n",
    "Check the info about [IPython](https://ipython.org) in their website. The IPython documentation extensively covers the features of IPython (Interactive environment for Python). This package make interactive use of Python more enjoyable and productive.\n",
    "\n",
    "#### Multivariate Analysis of Neuroimaging Data ####\n",
    "_____________________________________________\n",
    "\n",
    "A list of reference can be found [here](http://www.pymvpa.org/references.html#chap-references); this is a related not exhaustive list of related publications. For a quick introduction into the topic read [Pereira et. al. 2009](https://www.sciencedirect.com/science/article/pii/S1053811908012263?via%3Dihub). For the generic reference on machine learning methods we would recommend a great text book [The Elements of Statistical Learning: Data Mining, Inference and Prediction](https://link.springer.com/book/10.1007%2F978-0-387-84858-7), which is available free of charge.\n",
    "For an overview of recent advances in computational approaches for modeling and decoding os stimulus and cognitive spaces we recommend video recordings from [Neural Computation 2011 Workshop at Darthmouth College](http://haxbylab.dartmouth.edu/meetings/ncworkshop11.html)\n",
    "\n",
    "## Tutorial Data ##\n",
    "\n",
    "We will analyze real BOLD fMRI data, thus you need to download the [corresponding data from the PyMVPA website](http://www.pymvpa.org/datadb/tutorial_data.html#datadb-tutorial-data), the full dataset of this study is also available [here](http://www.pymvpa.org/datadb/haxby2001.html#datadb-haxby2001)\n",
    "\n",
    "On a NeuroDebian enabled system, the tutorial data is also available from the `python-mvpa2-tutorialdata`, and help on the tutorial can be retrieved by `pymvpa2-tutorial --help`. The `pymvpa2-tutorial` command can be invoked in a console in order to launch a tutorial session. "
   ]
  },
  {
   "cell_type": "code",
   "execution_count": null,
   "metadata": {},
   "outputs": [],
   "source": [
    "sudo apt-get install neurodebian\n",
    "sudo apt-get install python-mvpa2\n",
    "pymvpa2-tutorial --help\n",
    "pymvpa2-tutorial --tutorial-data-path ~/home/william/data\n",
    "pymvpa2-tutorial"
   ]
  },
  {
   "cell_type": "markdown",
   "metadata": {},
   "source": [
    "After getting the tutorial running, virtually every Python script starts with some `import` statements that load functionality provided elsewhere."
   ]
  },
  {
   "cell_type": "code",
   "execution_count": null,
   "metadata": {},
   "outputs": [],
   "source": [
    "from mvpa2.tutorial_suite import *"
   ]
  },
  {
   "cell_type": "markdown",
   "metadata": {},
   "source": [
    "If this code runs it means everything is fine"
   ]
  },
  {
   "cell_type": "markdown",
   "metadata": {},
   "source": [
    "## Data basics and concepts ##\n",
    "\n",
    "A **Dataset** is the basic data container in PyMVPA. It serves as the primary form of data storage and is also a container for results from the algorithm. Most datasets in PyMVPA are represented as a two-dimensional array, where the first axis is the **samples** axis, and the second axis represents the **features** of the samples. In the simplest case, a dataset only contains _data_ that is matrix of numerical values"
   ]
  },
  {
   "cell_type": "code",
   "execution_count": 4,
   "metadata": {},
   "outputs": [],
   "source": [
    "data = [[  1,  1, -1],\n",
    "        [  2,  0,  0],\n",
    "        [  3,  1,  1],\n",
    "        [  4,  0, -1]]\n",
    "ds = Dataset(data) # not running correctly bcuz might be exclusive within pymvpa\n",
    "ds.shape\n",
    "len(ds)\n",
    "ds.nfeatures\n",
    "ds.samples"
   ]
  },
  {
   "cell_type": "markdown",
   "metadata": {},
   "source": [
    "In the example above, every row vector in the `data` matrix becomes an observation, a *sample*, and every column vector represents an individual variable, a *feature*.\n",
    "The dataset assumes that the first axis of the data is to be used to define individual samples. If the dataset is created using a one-dimensional vector it will therefore have as many samples as elements in the vector, and only one feature."
   ]
  },
  {
   "cell_type": "code",
   "execution_count": null,
   "metadata": {},
   "outputs": [],
   "source": [
    "one_d = [ 0, 1, 2, 3 ]\n",
    "one_ds = Dataset(one_D)\n",
    "one_ds.shape"
   ]
  },
  {
   "cell_type": "markdown",
   "metadata": {},
   "source": [
    "On the other hand, if a dataset is created from multi-dimensional data, only its second axis represents the features."
   ]
  },
  {
   "cell_type": "code",
   "execution_count": null,
   "metadata": {},
   "outputs": [],
   "source": [
    "import "
   ]
  }
 ],
 "metadata": {
  "kernelspec": {
   "display_name": "Python 3",
   "language": "python",
   "name": "python3"
  },
  "language_info": {
   "codemirror_mode": {
    "name": "ipython",
    "version": 3
   },
   "file_extension": ".py",
   "mimetype": "text/x-python",
   "name": "python",
   "nbconvert_exporter": "python",
   "pygments_lexer": "ipython3",
   "version": "3.7.3"
  }
 },
 "nbformat": 4,
 "nbformat_minor": 2
}
