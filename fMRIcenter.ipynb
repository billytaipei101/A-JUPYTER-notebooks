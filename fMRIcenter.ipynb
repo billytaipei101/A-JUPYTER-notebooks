{
 "cells": [
  {
   "cell_type": "markdown",
   "metadata": {},
   "source": [
    "# 實驗日\n",
    "\n",
    "地點：成大醫學院的門口處（可說明地點在舊成大醫院旁）。如果您想知道具體的地方請您按這個[連結](https://www.youtube.com/watch?v=wCw14ffAJN8)\n",
    "\n",
    "[地圖](https://www.dropbox.com/home/A%20Example?preview=hospi2.png)\n",
    "\n",
    "\n",
    "\n"
   ]
  },
  {
   "cell_type": "code",
   "execution_count": null,
   "metadata": {},
   "outputs": [],
   "source": []
  }
 ],
 "metadata": {
  "kernelspec": {
   "display_name": "Python 3",
   "language": "python",
   "name": "python3"
  },
  "language_info": {
   "codemirror_mode": {
    "name": "ipython",
    "version": 3
   },
   "file_extension": ".py",
   "mimetype": "text/x-python",
   "name": "python",
   "nbconvert_exporter": "python",
   "pygments_lexer": "ipython3",
   "version": "3.7.3"
  }
 },
 "nbformat": 4,
 "nbformat_minor": 2
}
